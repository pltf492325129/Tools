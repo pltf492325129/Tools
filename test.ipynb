{
 "cells": [
  {
   "cell_type": "code",
   "execution_count": 1,
   "id": "a33f7b01-d488-477c-ae9f-5cf56bb46d36",
   "metadata": {},
   "outputs": [
    {
     "name": "stdout",
     "output_type": "stream",
     "text": [
      "['.git', '.ipynb_checkpoints', 'EFI', 'EFI.zip', 'test.ipynb', 'test.py', 'testMd.md']\n"
     ]
    }
   ],
   "source": [
    "import os\n",
    "\n",
    "path = os.listdir('./')\n",
    "print(path)"
   ]
  },
  {
   "cell_type": "markdown",
   "id": "66723344-5b74-41c1-8a30-e9077dc57250",
   "metadata": {},
   "source": [
    "## T2 测试文档"
   ]
  },
  {
   "cell_type": "markdown",
   "id": "90ac84a6-ad59-499f-af40-573e9b97084e",
   "metadata": {},
   "source": [
    "## a\n",
    "### test\n",
    "\n",
    "# vi \n"
   ]
  },
  {
   "cell_type": "code",
   "execution_count": 2,
   "id": "e87ee58c-cf47-42a4-a40b-b3eff72ad6ad",
   "metadata": {},
   "outputs": [
    {
     "name": "stdout",
     "output_type": "stream",
     "text": [
      "test\n"
     ]
    }
   ],
   "source": [
    "print(\"test\")"
   ]
  },
  {
   "cell_type": "code",
   "execution_count": null,
   "id": "0a14f90b-079e-4acc-9f71-c241c394367d",
   "metadata": {},
   "outputs": [],
   "source": []
  }
 ],
 "metadata": {
  "kernelspec": {
   "display_name": "PyTorch-1.8",
   "language": "python",
   "name": "pytorch-1.8"
  },
  "language_info": {
   "codemirror_mode": {
    "name": "ipython",
    "version": 3
   },
   "file_extension": ".py",
   "mimetype": "text/x-python",
   "name": "python",
   "nbconvert_exporter": "python",
   "pygments_lexer": "ipython3",
   "version": "3.7.10"
  }
 },
 "nbformat": 4,
 "nbformat_minor": 5
}
